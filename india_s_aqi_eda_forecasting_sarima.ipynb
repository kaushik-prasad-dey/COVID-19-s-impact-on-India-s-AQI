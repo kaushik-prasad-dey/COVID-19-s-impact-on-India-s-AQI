{
  "metadata": {
    "kernelspec": {
      "language": "python",
      "display_name": "Python 3",
      "name": "python3"
    },
    "language_info": {
      "name": "python",
      "version": "3.7.9",
      "mimetype": "text/x-python",
      "codemirror_mode": {
        "name": "ipython",
        "version": 3
      },
      "pygments_lexer": "ipython3",
      "nbconvert_exporter": "python",
      "file_extension": ".py"
    },
    "colab": {
      "provenance": [],
      "include_colab_link": true
    }
  },
  "nbformat_minor": 0,
  "nbformat": 4,
  "cells": [
    {
      "cell_type": "markdown",
      "metadata": {
        "id": "view-in-github",
        "colab_type": "text"
      },
      "source": [
        "<a href=\"https://colab.research.google.com/github/kaushik-prasad-dey/COVID-19-s-impact-on-India-s-AQI/blob/main/india_s_aqi_eda_forecasting_sarima.ipynb\" target=\"_parent\"><img src=\"https://colab.research.google.com/assets/colab-badge.svg\" alt=\"Open In Colab\"/></a>"
      ]
    },
    {
      "cell_type": "markdown",
      "source": [
        "# **A brief analysis of COVID-19's impact on India's AQI and Time Series Forecasting with SARIMA**\n",
        "\n",
        "The air quality index (AQI) is an index for reporting air quality on a daily basis. A low AQI indicates good air quality and low levels of pollution while a higher AQI suggests increased concentrations of pollutants in the air which is extremely detrimental to human health.\n",
        "\n",
        "The air quality index is composed of 8 pollutants ((PM10, PM2.5, NO2, SO2, CO, O3, NH3, and Pb)\n",
        "\n",
        "AQI scores and categories:\n",
        "Good (0–50)\n",
        "Satisfactory (51–100)\n",
        "Moderately polluted (101–200)\n",
        "Poor (201–300)\n",
        "Very poor (301–400)\n",
        "Severe (401–500)\n",
        "\n",
        "In this notebook, we will be using the day-wise AQI dataset which contains information regarding the daily level of pollutants and AQI in around 26 Indian cities from 2015-2020.\n",
        "\n",
        "Our notebook has two major parts:\n",
        "1. Finding the most polluted cities in recent years and analysing the levels of pollutants here. Understanding the impact of COVID-19 induced lockdowns on Air Quality in some of the major cities : analysing which cities underwent the most drastic improvement in Air Quality and which cities showed a spike in AQI levels inspite of a stringent lockdown\n",
        "\n",
        "2. We do a time-series analysis of the data and and fit a SARIMA model with computed orders to forecast India's AQI in 2021."
      ],
      "metadata": {
        "id": "lzfB8OugSYAT"
      }
    },
    {
      "cell_type": "code",
      "source": [
        "# This Python 3 environment comes with many helpful analytics libraries installed\n",
        "# It is defined by the kaggle/python Docker image: https://github.com/kaggle/docker-python\n",
        "# For example, here's several helpful packages to load\n",
        "\n",
        "import numpy as np # linear algebra\n",
        "import pandas as pd # data processing, CSV file I/O (e.g. pd.read_csv)\n",
        "from statsmodels.graphics.tsaplots import plot_pacf\n",
        "from statsmodels.graphics.tsaplots import plot_acf\n",
        "from statsmodels.tsa.statespace.sarimax import SARIMAX\n",
        "from statsmodels.tsa.seasonal import seasonal_decompose\n",
        "from statsmodels.tsa.stattools import adfuller\n",
        "import warnings\n",
        "warnings.filterwarnings('ignore')\n",
        "\n",
        "# Input data files are available in the read-only \"../input/\" directory\n",
        "# For example, running this (by clicking run or pressing Shift+Enter) will list all files under the input directory\n",
        "\n",
        "import os\n",
        "for dirname, _, filenames in os.walk('/kaggle/input/air-quality-data-in-india'):\n",
        "    for filename in filenames:\n",
        "        print(os.path.join(dirname, filename))\n",
        "\n",
        "# You can write up to 20GB to the current directory (/kaggle/working/) that gets preserved as output when you create a version using \"Save & Run All\" \n",
        "# You can also write temporary files to /kaggle/temp/, but they won't be saved outside of the current session"
      ],
      "metadata": {
        "_uuid": "8f2839f25d086af736a60e9eeb907d3b93b6e0e5",
        "_cell_guid": "b1076dfc-b9ad-4769-8c92-a6c4dae69d19",
        "execution": {
          "iopub.status.busy": "2021-10-16T07:30:32.718669Z",
          "iopub.execute_input": "2021-10-16T07:30:32.719090Z",
          "iopub.status.idle": "2021-10-16T07:30:32.731489Z",
          "shell.execute_reply.started": "2021-10-16T07:30:32.719042Z",
          "shell.execute_reply": "2021-10-16T07:30:32.729759Z"
        },
        "trusted": true,
        "id": "nEvauYg9SYAj"
      },
      "execution_count": null,
      "outputs": []
    },
    {
      "cell_type": "code",
      "source": [
        "#importing day-wise data of cities\n",
        "cities= pd.read_csv('../input/air-quality-data-in-india/city_day.csv')\n",
        "\n",
        "#visualizing the top rows of the dataset\n",
        "cities.head()"
      ],
      "metadata": {
        "execution": {
          "iopub.status.busy": "2021-10-16T07:30:32.734035Z",
          "iopub.execute_input": "2021-10-16T07:30:32.734501Z",
          "iopub.status.idle": "2021-10-16T07:30:32.830257Z",
          "shell.execute_reply.started": "2021-10-16T07:30:32.734458Z",
          "shell.execute_reply": "2021-10-16T07:30:32.829320Z"
        },
        "trusted": true,
        "id": "dl0ULudnSYAo"
      },
      "execution_count": null,
      "outputs": []
    },
    {
      "cell_type": "code",
      "source": [
        "#getting information about the columns in our dataset\n",
        "cities.info()"
      ],
      "metadata": {
        "execution": {
          "iopub.status.busy": "2021-10-16T07:30:32.831960Z",
          "iopub.execute_input": "2021-10-16T07:30:32.832400Z",
          "iopub.status.idle": "2021-10-16T07:30:32.863243Z",
          "shell.execute_reply.started": "2021-10-16T07:30:32.832357Z",
          "shell.execute_reply": "2021-10-16T07:30:32.862152Z"
        },
        "trusted": true,
        "id": "KHszmpXpSYAp"
      },
      "execution_count": null,
      "outputs": []
    },
    {
      "cell_type": "markdown",
      "source": [
        "To be able to construct time plots, we need to first convert the Date column into a DateTime format."
      ],
      "metadata": {
        "id": "Kmgsv4PoSYAr"
      }
    },
    {
      "cell_type": "code",
      "source": [
        "print(cities.shape)\n",
        "\n",
        "#converting column Date into DateTime format\n",
        "cities['Date']=pd.to_datetime(cities['Date'])"
      ],
      "metadata": {
        "execution": {
          "iopub.status.busy": "2021-10-16T07:30:32.866158Z",
          "iopub.execute_input": "2021-10-16T07:30:32.866766Z",
          "iopub.status.idle": "2021-10-16T07:30:32.888190Z",
          "shell.execute_reply.started": "2021-10-16T07:30:32.866721Z",
          "shell.execute_reply": "2021-10-16T07:30:32.887024Z"
        },
        "trusted": true,
        "id": "6bM-JxBSSYAs"
      },
      "execution_count": null,
      "outputs": []
    },
    {
      "cell_type": "markdown",
      "source": [
        "Next, we try to find the percentage of missing values in each column."
      ],
      "metadata": {
        "id": "oQbmMJUeSYAu"
      }
    },
    {
      "cell_type": "code",
      "source": [
        "import missingno as msno\n",
        "import matplotlib.pyplot as plt\n",
        "%matplotlib inline\n",
        "import seaborn as sns\n",
        "\n",
        "#finding the proportion of missing values in each column\n",
        "missing=pd.DataFrame(cities.isna().sum()/len(cities))\n",
        "missing.columns=['Proportion']\n",
        "print(missing.sort_values(by='Proportion', ascending=False))\n",
        "\n",
        "#plotting the number of non-null values in each column\n",
        "msno.bar(cities)"
      ],
      "metadata": {
        "execution": {
          "iopub.status.busy": "2021-10-16T07:30:32.890787Z",
          "iopub.execute_input": "2021-10-16T07:30:32.891330Z",
          "iopub.status.idle": "2021-10-16T07:30:34.161822Z",
          "shell.execute_reply.started": "2021-10-16T07:30:32.891284Z",
          "shell.execute_reply": "2021-10-16T07:30:34.160592Z"
        },
        "trusted": true,
        "id": "9lkm3KgzSYAw"
      },
      "execution_count": null,
      "outputs": []
    },
    {
      "cell_type": "markdown",
      "source": [
        "We see that Xylene and PM10 have a very high proportion of missing values. This might be due to manual inconsistencies/human negligence while recording or absence of enough stations in the city.\n",
        "\n",
        "Next, processing our dataset further and for ease of analysis, we club columns of the same category together."
      ],
      "metadata": {
        "id": "gzb75o-7SYAy"
      }
    },
    {
      "cell_type": "code",
      "source": [
        "#filling missing values with zero - can also be imputed by mean of the observations\n",
        "cities.fillna(0,inplace=True)\n",
        "\n",
        "#extracting year and month for each record\n",
        "cities['year'] = pd.DatetimeIndex(cities['Date']).year\n",
        "cities['month'] = pd.DatetimeIndex(cities['Date']).month\n",
        "\n",
        "#clubbing all particulate matter\n",
        "cities['PM']=cities['PM2.5'] + cities['PM10']\n",
        "\n",
        "#clubbing nitrogen oxides\n",
        "cities['Nitric']=cities['NO'] + cities['NO2']+ cities['NOx']\n",
        "\n",
        "#clubbing Benzene, toluene and Xylene together\n",
        "cities['BTX']=cities['Benzene'] + cities['Toluene']+ cities['Xylene']\n",
        "\n",
        "#grouping pollutant levels in every city by year and month\n",
        "cities_group_ym=cities.groupby(['City','year','month'])[['PM','Nitric','CO','NH3','O3','SO2','BTX','AQI']].mean()\n",
        "\n",
        "cities_group_ym=cities_group_ym.reset_index(['City','year','month'])\n",
        "cities_group_ym.head()"
      ],
      "metadata": {
        "execution": {
          "iopub.status.busy": "2021-10-16T07:30:34.163217Z",
          "iopub.execute_input": "2021-10-16T07:30:34.163547Z",
          "iopub.status.idle": "2021-10-16T07:30:34.221309Z",
          "shell.execute_reply.started": "2021-10-16T07:30:34.163516Z",
          "shell.execute_reply": "2021-10-16T07:30:34.220215Z"
        },
        "trusted": true,
        "id": "z1lEuI7GSYA0"
      },
      "execution_count": null,
      "outputs": []
    },
    {
      "cell_type": "markdown",
      "source": [
        "### **Visualizing the most polluted cities for each category of pollutants (2017-19)**\n",
        "\n",
        "We take years 2017-2019 as our reference years to understand the general trend of pollutants prevailing in some of the most polluted Indian cities:"
      ],
      "metadata": {
        "id": "QJwGSZ1ySYA1"
      }
    },
    {
      "cell_type": "code",
      "source": [
        "#taking a subset of our dataset for the last three years before 2020\n",
        "cities_17_19=cities_group_ym[cities_group_ym['year'].isin([2017,2018,2019])]\n",
        "\n",
        "#list of pollutants\n",
        "pollutants=['PM','Nitric','CO','NH3','O3','SO2','BTX','AQI']\n",
        "sns.set_theme(style='whitegrid')\n",
        "\n",
        "#plotting the top 10 most polluted cities for each category of pollutants, as well as overall AQI\n",
        "for i in pollutants:\n",
        "    df=cities_17_19.groupby(['City'])[[i]].mean().sort_values(i,ascending=False).iloc[:10,:]\n",
        "    \n",
        "    df=df.reset_index(['City'])\n",
        "\n",
        "    plt.figure()\n",
        "    sns.barplot(data=df, x=\"City\", y=i, palette=\"viridis\", alpha=.9)\n",
        "    plt.xticks(rotation=45) "
      ],
      "metadata": {
        "execution": {
          "iopub.status.busy": "2021-10-16T07:30:34.222553Z",
          "iopub.execute_input": "2021-10-16T07:30:34.222841Z",
          "iopub.status.idle": "2021-10-16T07:30:36.341758Z",
          "shell.execute_reply.started": "2021-10-16T07:30:34.222813Z",
          "shell.execute_reply": "2021-10-16T07:30:36.340682Z"
        },
        "trusted": true,
        "id": "hLCIegCISYA2"
      },
      "execution_count": null,
      "outputs": []
    },
    {
      "cell_type": "markdown",
      "source": [
        "Now, we try to find how each individual pollutant is related to the AQI."
      ],
      "metadata": {
        "id": "Sy4rDsN8SYA3"
      }
    },
    {
      "cell_type": "code",
      "source": [
        "#plotting the correlation matrix with sns heatmap\n",
        "corr_matrix = cities_group_ym.iloc[:,3:].corr()\n",
        "print(corr_matrix)\n",
        "fig = plt.figure(figsize = (6, 4))\n",
        "sns.heatmap(corr_matrix, vmin=-1, vmax=1)\n",
        "plt.show()"
      ],
      "metadata": {
        "execution": {
          "iopub.status.busy": "2021-10-16T07:30:36.343302Z",
          "iopub.execute_input": "2021-10-16T07:30:36.343612Z",
          "iopub.status.idle": "2021-10-16T07:30:36.707356Z",
          "shell.execute_reply.started": "2021-10-16T07:30:36.343584Z",
          "shell.execute_reply": "2021-10-16T07:30:36.706431Z"
        },
        "trusted": true,
        "id": "LjwUMhd6SYA4"
      },
      "execution_count": null,
      "outputs": []
    },
    {
      "cell_type": "markdown",
      "source": [
        "We see that BTX has the lowest correlation with AQI- which is perfectly in sync with the AQI calculation formula. The air quality index is composed of 8 pollutants ((PM10, PM2.5, NO2, SO2, CO, O3, NH3, and Pb), but does not directly account for BTX.\n",
        "\n",
        "Next, we study the general AQI trend over the months from year 2017-19."
      ],
      "metadata": {
        "id": "EkhS-Vz1SYA5"
      }
    },
    {
      "cell_type": "code",
      "source": [
        "df_AQI_trend= cities_17_19.groupby(['City','month'])[['AQI']].mean().reset_index()\n",
        "\n",
        "sns.lineplot(\n",
        "    data=df_AQI_trend,\n",
        "    x=\"month\", y=\"AQI\",hue='City'\n",
        ")\n",
        "plt.legend(bbox_to_anchor=(1.05, 1), loc=2, borderaxespad=0.)"
      ],
      "metadata": {
        "execution": {
          "iopub.status.busy": "2021-10-16T07:30:36.708917Z",
          "iopub.execute_input": "2021-10-16T07:30:36.709350Z",
          "iopub.status.idle": "2021-10-16T07:30:37.369952Z",
          "shell.execute_reply.started": "2021-10-16T07:30:36.709309Z",
          "shell.execute_reply": "2021-10-16T07:30:37.368924Z"
        },
        "trusted": true,
        "id": "BDMBbunMSYA5"
      },
      "execution_count": null,
      "outputs": []
    },
    {
      "cell_type": "markdown",
      "source": [
        "We see that there isa clear pattern which emerges here. AQI decreases in the summer months, which in turn means that air quality improves over these months."
      ],
      "metadata": {
        "id": "oYg1udGxSYA6"
      }
    },
    {
      "cell_type": "markdown",
      "source": [
        "## Analysing the impact of COVID-19 induced lockdown on AQI:\n",
        "\n",
        "To start off, we will be picking out some cities from the most polluted ones(as inferred above) and try to visualize how their AQI changed in 2020 as compared to 2019.\n",
        "\n",
        "Here onwards, we will be doing our analysis and inferencing based on percentage change in AQI from 2019 to 2020."
      ],
      "metadata": {
        "id": "zqfhEyYDSYA6"
      }
    },
    {
      "cell_type": "code",
      "source": [
        "#creating a list of some of the most polluted cities\n",
        "most_polluted=['Delhi','Patna','Ahmedabad','Gurugram','Kolkata']\n",
        "\n",
        "#forming two df's- containing data from 2019 and 2020 respectively\n",
        "cities_2019= cities_group_ym[(cities_group_ym['City'].isin(most_polluted)) & (cities_group_ym['year']==2019)]\n",
        "cities_2020= cities_group_ym[(cities_group_ym['City'].isin(most_polluted)) & (cities_group_ym['year']==2020)]\n",
        "\n",
        "cities_19_vs_20 = pd.merge(cities_2019, cities_2020, how=\"inner\", on=[\"City\", \"month\"])\n",
        "\n",
        "#computing the percentage change in AQI\n",
        "cities_19_vs_20['AQI Percentage change']=100*(cities_19_vs_20['AQI_y']-cities_19_vs_20['AQI_x'])/cities_19_vs_20['AQI_x']\n",
        "\n",
        "#plotting AQI change for a few highly polluted cities\n",
        "fig = plt.figure(figsize=(10,7))\n",
        "sns.lineplot(\n",
        "    data=cities_19_vs_20,\n",
        "    x=\"month\", y=\"AQI Percentage change\",hue='City',linewidth=4.5,\n",
        "    markers=True, dashes=False\n",
        ")\n"
      ],
      "metadata": {
        "execution": {
          "iopub.status.busy": "2021-10-16T07:30:37.371850Z",
          "iopub.execute_input": "2021-10-16T07:30:37.372200Z",
          "iopub.status.idle": "2021-10-16T07:30:37.752607Z",
          "shell.execute_reply.started": "2021-10-16T07:30:37.372167Z",
          "shell.execute_reply": "2021-10-16T07:30:37.751520Z"
        },
        "trusted": true,
        "id": "_wLeSDbASYA7"
      },
      "execution_count": null,
      "outputs": []
    },
    {
      "cell_type": "markdown",
      "source": [
        "The general trend shows that the AQI indeed decreased for the lockdown months, signifying a major improvement in Air quality with reduced pollution levels.\n",
        "\n",
        "However, we will now investigate the cities which fared the best in these 4 months and also the ones which showed anomalies with a spike in AQI."
      ],
      "metadata": {
        "id": "vx3HfIDoSYA7"
      }
    },
    {
      "cell_type": "markdown",
      "source": [
        "## Cities which had underwent the most drastic improvement in Air Quality:"
      ],
      "metadata": {
        "id": "RsF3G6opSYA8"
      }
    },
    {
      "cell_type": "code",
      "source": [
        "#forming two seperate dataframes for years 2019 and 2020\n",
        "cities_19_all= cities_group_ym[cities_group_ym['year']==2019]\n",
        "cities_20_all= cities_group_ym[cities_group_ym['year']==2020]\n",
        "\n",
        "#joining the two df's to get a comparitive view of AQI value in 2019 and 2020\n",
        "cities_19_vs_20_all = pd.merge(cities_19_all, cities_20_all, how=\"inner\", on=[\"City\", \"month\"])\n",
        "cities_19_vs_20_all['AQI Percentage change']=100*(cities_19_vs_20_all['AQI_y']-cities_19_vs_20_all['AQI_x'])/cities_19_vs_20_all['AQI_x']\n",
        "\n",
        "#lockdown months- which we will be analysing\n",
        "months=[3,4,5,6]\n",
        "fig, axes = plt.subplots(ncols=2, nrows=2,figsize=(12, 7))\n",
        "\n",
        "#plotting the top 10 cities for the months March-June 2020 which had the most improvement in AQI\n",
        "for i, ax in zip(months, axes.flat):\n",
        "    cities_AQI_comp=cities_19_vs_20_all[(cities_19_vs_20_all['AQI_y']!= 0.000000) & (cities_19_vs_20_all['month']==i)]\n",
        "    cities_AQI_comp_10=cities_AQI_comp[['City','month','AQI_x','AQI_y','AQI Percentage change']].sort_values(by='AQI Percentage change', ascending=True).iloc[:10,:]\n",
        "    \n",
        "    h=sns.barplot(data=cities_AQI_comp_10, x=\"City\", y='AQI Percentage change', palette=\"flare\", alpha=.9, ax=ax)\n",
        "    h.set(title='Month : {}'.format(i))\n",
        "    h.set_xticklabels(h.get_xticklabels(), rotation=45)\n",
        "    \n",
        "plt.xticks(rotation=45)\n",
        "plt.tight_layout()\n",
        "plt.show()"
      ],
      "metadata": {
        "execution": {
          "iopub.status.busy": "2021-10-16T07:30:37.754354Z",
          "iopub.execute_input": "2021-10-16T07:30:37.754786Z",
          "iopub.status.idle": "2021-10-16T07:30:38.858189Z",
          "shell.execute_reply.started": "2021-10-16T07:30:37.754744Z",
          "shell.execute_reply": "2021-10-16T07:30:38.857063Z"
        },
        "trusted": true,
        "id": "TZcvK-S0SYA9"
      },
      "execution_count": null,
      "outputs": []
    },
    {
      "cell_type": "markdown",
      "source": [
        "We can see that there has been a significant improvement in the air quality for these cities over the four months."
      ],
      "metadata": {
        "id": "_5iWzUdrSYA-"
      }
    },
    {
      "cell_type": "markdown",
      "source": [
        "### Cities which showed an increased AQI as compared to 2019 in the lockdown-months:"
      ],
      "metadata": {
        "id": "6_3Cw30CSYA_"
      }
    },
    {
      "cell_type": "markdown",
      "source": [
        "Analysing the cities which showed a positive AQI change percentage, denoting an increased AQI in 2020:"
      ],
      "metadata": {
        "id": "PcpiBXU5SYA_"
      }
    },
    {
      "cell_type": "code",
      "source": [
        "#finding cities which have a higher AQI in months March April, May, June of 2020 as compared to the same months last year\n",
        "cities_19_vs_20_all[(cities_19_vs_20_all['AQI Percentage change']>=0)&(cities_19_vs_20_all['month'].\n",
        "                                                                       isin([3,4,5,6]) )][['City','month','AQI_x','AQI_y','AQI Percentage change']].sort_values(by='AQI Percentage change', ascending=False)"
      ],
      "metadata": {
        "execution": {
          "iopub.status.busy": "2021-10-16T07:30:38.859507Z",
          "iopub.execute_input": "2021-10-16T07:30:38.859811Z",
          "iopub.status.idle": "2021-10-16T07:30:38.880367Z",
          "shell.execute_reply.started": "2021-10-16T07:30:38.859783Z",
          "shell.execute_reply": "2021-10-16T07:30:38.878769Z"
        },
        "trusted": true,
        "id": "gA-VcUi2SYBA"
      },
      "execution_count": null,
      "outputs": []
    },
    {
      "cell_type": "markdown",
      "source": [
        "Analysing in detail the towns/cities which recorded a higher AQI in April and May of 2020 as compared to 2019:"
      ],
      "metadata": {
        "id": "gS82Q1onSYBA"
      }
    },
    {
      "cell_type": "code",
      "source": [
        "#cities displayed above which showed a higher AQI in the lockdown months of 2020 as compared to 2019\n",
        "anomalies=['Guwahati','Jorapokhar','Brajrajnagar','Talcher']\n",
        "\n",
        "#understanding the rise of pollutants which contributed to the increased AQI in 2020 by comparing the levels of each pollutant in 2019 and 2020\n",
        "for i in anomalies:\n",
        "    city_19_20= cities_group_ym[(cities_group_ym['City']==i) & \n",
        "                                 (cities_group_ym['year'].isin([2019,2020]))&\n",
        "                                (cities_group_ym['month']<8)]\n",
        "\n",
        "    sns.set_theme(style=\"whitegrid\")\n",
        "    fig = plt.figure()\n",
        "    fig, axes = plt.subplots(2,4,figsize=(12, 5))\n",
        "    \n",
        "    sns.barplot(\n",
        "        data=city_19_20, \n",
        "        x=\"month\", y=\"AQI\", hue=\"year\",\n",
        "         palette=\"dark\", alpha=.6,ax=axes[0,0]\n",
        "    )\n",
        "    sns.lineplot(\n",
        "        data=city_19_20,\n",
        "        x=\"month\", y=\"PM\", hue=\"year\",palette='dark',\n",
        "        markers=True, dashes=False,ax=axes[0,1]\n",
        "    )\n",
        "    sns.lineplot(\n",
        "        data=city_19_20,\n",
        "        x=\"month\", y=\"Nitric\", hue=\"year\",palette='dark',\n",
        "        markers=True, dashes=False,ax=axes[0,2]\n",
        "    )\n",
        "    sns.lineplot(\n",
        "        data=city_19_20,\n",
        "        x=\"month\", y=\"CO\", hue=\"year\",palette='dark',\n",
        "        markers=True, dashes=False,ax=axes[0,3]\n",
        "    )\n",
        "    sns.lineplot(\n",
        "        data=city_19_20,\n",
        "        x=\"month\", y=\"BTX\", hue=\"year\",palette='dark',\n",
        "        markers=True, dashes=False,ax=axes[1,0]\n",
        "    )\n",
        "    sns.lineplot(\n",
        "        data=city_19_20,\n",
        "        x=\"month\", y=\"SO2\", hue=\"year\",palette='dark',\n",
        "        markers=True, dashes=False,ax=axes[1,1]\n",
        "    )\n",
        "    sns.lineplot(\n",
        "        data=city_19_20,\n",
        "        x=\"month\", y=\"NH3\", hue=\"year\",palette='dark',\n",
        "        markers=True,ax=axes[1,2]\n",
        "    )\n",
        "    sns.lineplot(\n",
        "        data=city_19_20,\n",
        "        x=\"month\", y=\"O3\", hue=\"year\",palette='dark',\n",
        "        markers=True, ax=axes[1,3]\n",
        "    )\n",
        "\n",
        "    fig.tight_layout()\n",
        "    print(i,':')\n",
        "    plt.show()"
      ],
      "metadata": {
        "execution": {
          "iopub.status.busy": "2021-10-16T07:30:38.881967Z",
          "iopub.execute_input": "2021-10-16T07:30:38.882376Z",
          "iopub.status.idle": "2021-10-16T07:30:46.712669Z",
          "shell.execute_reply.started": "2021-10-16T07:30:38.882340Z",
          "shell.execute_reply": "2021-10-16T07:30:46.711328Z"
        },
        "trusted": true,
        "id": "CqiBeV-ZSYBB"
      },
      "execution_count": null,
      "outputs": []
    },
    {
      "cell_type": "markdown",
      "source": [
        "We see that the four cities mentioned above did not witness an improvement in AQI during the COVID-19 induced lockdown as expected. The reason might be manifold: sparse AQI readings in 2020,flouting of lockdown norms, or any other natural phenomenon overriding the positive impact of decreased human and industrial activity.\n",
        "\n",
        "* Guwahati: we see that AQI for April'20 is more than 20% higher as compared to April'19. Particulate matter and NH3 were the increased contributing factors\n",
        "* Jorapokhar: we see that AQI for May'20 is substantially higher as compared to May'19. Concentration of almost all pollutants have increased\n",
        "* Brajrajnagar: Higher AQI in April'20 as compared to April'19. Can be attributed to increased O3 and PM levels\n",
        "* Talcher:Higher AQI in April'20 as compared to April'19. Can be attributed to increased CO,O3 and NH3 levels"
      ],
      "metadata": {
        "id": "lfmVAUZiSYBC"
      }
    },
    {
      "cell_type": "markdown",
      "source": [
        "### Part 2 : Time Series Analysis and Forecasting:"
      ],
      "metadata": {
        "id": "_XtDCAa2SYBD"
      }
    },
    {
      "cell_type": "code",
      "source": [
        "import warnings\n",
        "warnings.filterwarnings('ignore')\n",
        "\n",
        "#importing day-wise data of cities\n",
        "df= pd.read_csv('../input/air-quality-data-in-india/city_day.csv')\n",
        "\n",
        "df['Date'] = pd.to_datetime(df['Date'])\n",
        "\n",
        "#visualizing the top rows of the dataset\n",
        "df.tail(5)"
      ],
      "metadata": {
        "execution": {
          "iopub.status.busy": "2021-10-16T07:30:46.714346Z",
          "iopub.execute_input": "2021-10-16T07:30:46.714808Z",
          "iopub.status.idle": "2021-10-16T07:30:46.813972Z",
          "shell.execute_reply.started": "2021-10-16T07:30:46.714760Z",
          "shell.execute_reply": "2021-10-16T07:30:46.813133Z"
        },
        "trusted": true,
        "id": "X2u-gNpnSYBD"
      },
      "execution_count": null,
      "outputs": []
    },
    {
      "cell_type": "markdown",
      "source": [
        "We pivot the values from the 'City' column, so that we can have a comparitive view of the value of every city's AQI through every day.\n",
        "\n",
        "Then we resample them to find the mean of every month, so now our dataset contains month-wise data."
      ],
      "metadata": {
        "id": "CO18VukiSYBE"
      }
    },
    {
      "cell_type": "code",
      "source": [
        "cities_all = df.pivot_table(values='AQI', index=['Date'], columns='City')\n",
        "cities_all=cities_all.add_suffix('_AQI')\n",
        "cities=cities_all.resample(rule='MS').mean()\n",
        "cities.head()"
      ],
      "metadata": {
        "execution": {
          "iopub.status.busy": "2021-10-16T07:30:46.815451Z",
          "iopub.execute_input": "2021-10-16T07:30:46.815764Z",
          "iopub.status.idle": "2021-10-16T07:30:46.877574Z",
          "shell.execute_reply.started": "2021-10-16T07:30:46.815734Z",
          "shell.execute_reply": "2021-10-16T07:30:46.876385Z"
        },
        "trusted": true,
        "id": "k2tzHpFySYBE"
      },
      "execution_count": null,
      "outputs": []
    },
    {
      "cell_type": "code",
      "source": [
        "#form a new column containing India's AQI for every month by taking the average of all cities for that month\n",
        "cities['India_AQI']=cities.mean(axis=1)\n",
        "cities.head()"
      ],
      "metadata": {
        "execution": {
          "iopub.status.busy": "2021-10-16T07:30:46.879030Z",
          "iopub.execute_input": "2021-10-16T07:30:46.879376Z",
          "iopub.status.idle": "2021-10-16T07:30:46.911122Z",
          "shell.execute_reply.started": "2021-10-16T07:30:46.879344Z",
          "shell.execute_reply": "2021-10-16T07:30:46.910113Z"
        },
        "trusted": true,
        "id": "HGu-Zu1JSYBF"
      },
      "execution_count": null,
      "outputs": []
    },
    {
      "cell_type": "code",
      "source": [
        "cities.reset_index()\n",
        "\n",
        "sns.set_theme(style='whitegrid')\n",
        "\n",
        "#plot India's AQI\n",
        "cities['India_AQI'].plot(kind='line',grid=True,figsize=(10, 6), linewidth=2.5)"
      ],
      "metadata": {
        "execution": {
          "iopub.status.busy": "2021-10-16T07:30:46.912660Z",
          "iopub.execute_input": "2021-10-16T07:30:46.912953Z",
          "iopub.status.idle": "2021-10-16T07:30:47.255376Z",
          "shell.execute_reply.started": "2021-10-16T07:30:46.912925Z",
          "shell.execute_reply": "2021-10-16T07:30:47.254423Z"
        },
        "trusted": true,
        "id": "ptDbjOT0SYBF"
      },
      "execution_count": null,
      "outputs": []
    },
    {
      "cell_type": "markdown",
      "source": [
        "From the plot above, we can visually see that there is a slight downward trend and a seasonality present. However, we will decompose the plot into trend, seasonality and residuals to get a clearer picture."
      ],
      "metadata": {
        "id": "bvgso89LSYBG"
      }
    },
    {
      "cell_type": "code",
      "source": [
        "plt.rcParams['figure.figsize'] = (10, 6);\n",
        "cities['India_AQI']=cities.mean(axis=1)\n",
        "fig = seasonal_decompose(cities['India_AQI'], model='additive').plot()"
      ],
      "metadata": {
        "execution": {
          "iopub.status.busy": "2021-10-16T07:30:47.256704Z",
          "iopub.execute_input": "2021-10-16T07:30:47.257018Z",
          "iopub.status.idle": "2021-10-16T07:30:48.454225Z",
          "shell.execute_reply.started": "2021-10-16T07:30:47.256986Z",
          "shell.execute_reply": "2021-10-16T07:30:48.453185Z"
        },
        "trusted": true,
        "id": "vNaaD8SFSYBG"
      },
      "execution_count": null,
      "outputs": []
    },
    {
      "cell_type": "markdown",
      "source": [
        "We can see a clear seasonality and trend present here. The AQI decreases towards mid-year before rising again."
      ],
      "metadata": {
        "id": "qdKLI7GjSYBH"
      }
    },
    {
      "cell_type": "markdown",
      "source": [
        "### Augmented Dicky Fuller Test:\n",
        "\n",
        "We'll perform the ADF for determining stationarity of the time series."
      ],
      "metadata": {
        "id": "domh0y97SYBH"
      }
    },
    {
      "cell_type": "code",
      "source": [
        "dftest = adfuller(cities['India_AQI'], autolag='AIC')\n",
        "dfoutput = pd.Series(dftest[0:4], index=['Test Statistic','p-value','#Lags Used','Number of Observations Used'])\n",
        "for key,value in dftest[4].items():\n",
        "    dfoutput['Critical Value (%s)'%key] = value\n",
        "dfoutput"
      ],
      "metadata": {
        "execution": {
          "iopub.status.busy": "2021-10-16T07:30:48.459202Z",
          "iopub.execute_input": "2021-10-16T07:30:48.459514Z",
          "iopub.status.idle": "2021-10-16T07:30:48.480748Z",
          "shell.execute_reply.started": "2021-10-16T07:30:48.459485Z",
          "shell.execute_reply": "2021-10-16T07:30:48.479564Z"
        },
        "trusted": true,
        "id": "IF4YK9KGSYBI"
      },
      "execution_count": null,
      "outputs": []
    },
    {
      "cell_type": "markdown",
      "source": [
        "The p-value is 0.94, which means that this time series is not stationary.\n",
        "We perform a first order differencing to remove the trend and then perform the ADF test again."
      ],
      "metadata": {
        "id": "Ii1FmHsSSYBI"
      }
    },
    {
      "cell_type": "code",
      "source": [
        "diff = cities['India_AQI'].diff(periods=1)\n",
        "diff.dropna(inplace=True)\n",
        "fig = seasonal_decompose(diff, model='additive').plot()"
      ],
      "metadata": {
        "execution": {
          "iopub.status.busy": "2021-10-16T07:30:48.482202Z",
          "iopub.execute_input": "2021-10-16T07:30:48.482562Z",
          "iopub.status.idle": "2021-10-16T07:30:49.397975Z",
          "shell.execute_reply.started": "2021-10-16T07:30:48.482531Z",
          "shell.execute_reply": "2021-10-16T07:30:49.396964Z"
        },
        "trusted": true,
        "id": "UKU-wD6WSYBI"
      },
      "execution_count": null,
      "outputs": []
    },
    {
      "cell_type": "code",
      "source": [
        "dftest = adfuller(diff)\n",
        "dfoutput = pd.Series(dftest[0:4], index=['Test Statistic','p-value','#Lags Used','Number of Observations Used'])\n",
        "for key,value in dftest[4].items():\n",
        "    dfoutput['Critical Value (%s)'%key] = value\n",
        "dfoutput"
      ],
      "metadata": {
        "execution": {
          "iopub.status.busy": "2021-10-16T07:30:49.400019Z",
          "iopub.execute_input": "2021-10-16T07:30:49.400464Z",
          "iopub.status.idle": "2021-10-16T07:30:49.420330Z",
          "shell.execute_reply.started": "2021-10-16T07:30:49.400421Z",
          "shell.execute_reply": "2021-10-16T07:30:49.419353Z"
        },
        "trusted": true,
        "id": "GPzIM7f_SYBJ"
      },
      "execution_count": null,
      "outputs": []
    },
    {
      "cell_type": "markdown",
      "source": [
        "From the p-value and the Test Statistic, we can conclude that with one differencing, the time series becomes stationary. Therefore, d=1."
      ],
      "metadata": {
        "id": "ZHGfR4nmSYBJ"
      }
    },
    {
      "cell_type": "code",
      "source": [
        "fig, ax = plt.subplots(2,figsize=(13, 8))\n",
        "ax[0] = plot_acf(diff, lags=30, ax=ax[0])\n",
        "ax[1] = plot_pacf(diff,lags=30, ax=ax[1])"
      ],
      "metadata": {
        "execution": {
          "iopub.status.busy": "2021-10-16T07:30:49.421361Z",
          "iopub.execute_input": "2021-10-16T07:30:49.421777Z",
          "iopub.status.idle": "2021-10-16T07:30:49.898725Z",
          "shell.execute_reply.started": "2021-10-16T07:30:49.421735Z",
          "shell.execute_reply": "2021-10-16T07:30:49.898000Z"
        },
        "trusted": true,
        "id": "82J9R8kwSYBJ"
      },
      "execution_count": null,
      "outputs": []
    },
    {
      "cell_type": "markdown",
      "source": [
        "We can use auto-arima to determine the parameters of the SARIMA model."
      ],
      "metadata": {
        "id": "xlMt_VYfSYBK"
      }
    },
    {
      "cell_type": "code",
      "source": [
        "#installing pmdarima\n",
        "!pip install pmdarima;\n",
        "from pmdarima import auto_arima;  "
      ],
      "metadata": {
        "execution": {
          "iopub.status.busy": "2021-10-16T07:30:49.899882Z",
          "iopub.execute_input": "2021-10-16T07:30:49.900352Z",
          "iopub.status.idle": "2021-10-16T07:30:56.767317Z",
          "shell.execute_reply.started": "2021-10-16T07:30:49.900305Z",
          "shell.execute_reply": "2021-10-16T07:30:56.765992Z"
        },
        "trusted": true,
        "id": "ZuWAKGetSYBL"
      },
      "execution_count": null,
      "outputs": []
    },
    {
      "cell_type": "code",
      "source": [
        "auto_arima(y=cities['India_AQI'],start_p=1,start_P=1,start_q=1,start_Q=1,seasonal=True,m=12, stepwise=\\\n",
        "          True).summary()"
      ],
      "metadata": {
        "execution": {
          "iopub.status.busy": "2021-10-16T07:30:56.771007Z",
          "iopub.execute_input": "2021-10-16T07:30:56.771409Z",
          "iopub.status.idle": "2021-10-16T07:31:44.212615Z",
          "shell.execute_reply.started": "2021-10-16T07:30:56.771371Z",
          "shell.execute_reply": "2021-10-16T07:31:44.211493Z"
        },
        "trusted": true,
        "id": "AsIgghxoSYBL"
      },
      "execution_count": null,
      "outputs": []
    },
    {
      "cell_type": "markdown",
      "source": [
        "We see that the model has an RMSE of 22.75 on the test data set. Now, we can use this model to predict values into the future.\n",
        "\n",
        "We'll be forecasting AQI values for 2021. However, 2020 yielded unexpected AQI values owing to the lockdown imposed due to COVID-19, as we saw earlier. So our prediction might have a wider margin of error to be considered."
      ],
      "metadata": {
        "id": "K_KNX-9ISYBM"
      }
    },
    {
      "cell_type": "code",
      "source": [
        "#dividing into train and test:\n",
        "train_data=cities['India_AQI'][:'2018-12']\n",
        "test_data=cities['India_AQI'][:'2019-12']\n",
        "\n",
        "#Building the model:\n",
        "model=SARIMAX(train_data,order=(0,1,2),seasonal_order=(1,0,1,12), trend='n')\n",
        "results=model.fit()\n",
        "\n",
        "#printing summry of model reults\n",
        "results.summary()"
      ],
      "metadata": {
        "execution": {
          "iopub.status.busy": "2021-10-16T07:31:44.214251Z",
          "iopub.execute_input": "2021-10-16T07:31:44.214950Z",
          "iopub.status.idle": "2021-10-16T07:31:44.509222Z",
          "shell.execute_reply.started": "2021-10-16T07:31:44.214904Z",
          "shell.execute_reply": "2021-10-16T07:31:44.507689Z"
        },
        "trusted": true,
        "id": "XdsW1ewkSYBM"
      },
      "execution_count": null,
      "outputs": []
    },
    {
      "cell_type": "code",
      "source": [
        "fig, ax= plt.subplots(figsize=(10,6))\n",
        "\n",
        "#predict the next 12 months values to compare with the test dataset\n",
        "forecasts = results.get_forecast(steps=12, dynamic=True)\n",
        "\n",
        "#find the confidence intervals\n",
        "confidence_intervals=forecasts.conf_int()\n",
        "lower_limits = confidence_intervals.loc[:,'lower India_AQI']\n",
        "upper_limits = confidence_intervals.loc[:,'upper India_AQI']\n",
        "\n",
        "#plot the forecasted mean data for the next 12 months and the confidence interval\n",
        "forecasts.predicted_mean.plot(legend=True, ax=ax, label ='Predicted Values')\n",
        "plt.fill_between(confidence_intervals.index, lower_limits, upper_limits, color='pink')\n",
        "\n",
        "#plotting the actual value from test data\n",
        "test_data.plot(legend=True, ax=ax)"
      ],
      "metadata": {
        "execution": {
          "iopub.status.busy": "2021-10-16T07:31:44.515059Z",
          "iopub.execute_input": "2021-10-16T07:31:44.515628Z",
          "iopub.status.idle": "2021-10-16T07:31:44.929702Z",
          "shell.execute_reply.started": "2021-10-16T07:31:44.515578Z",
          "shell.execute_reply": "2021-10-16T07:31:44.927199Z"
        },
        "trusted": true,
        "id": "pPxtGSQsSYBN"
      },
      "execution_count": null,
      "outputs": []
    },
    {
      "cell_type": "code",
      "source": [
        "from sklearn.metrics import mean_squared_error\n",
        "\n",
        "test= cities['India_AQI']['2019-01':'2019-12']\n",
        "RMSE=np.sqrt(mean_squared_error(forecasts.predicted_mean,test))\n",
        "print('RMSE = ',RMSE)\n",
        "\n",
        "y_true=test\n",
        "y_pred= forecasts.predicted_mean\n",
        "mape= np.mean(np.abs((y_true - y_pred) / y_true)) * 100\n",
        "print('MAPE = ', mape)"
      ],
      "metadata": {
        "execution": {
          "iopub.status.busy": "2021-10-16T07:31:44.931317Z",
          "iopub.execute_input": "2021-10-16T07:31:44.931727Z",
          "iopub.status.idle": "2021-10-16T07:31:44.944959Z",
          "shell.execute_reply.started": "2021-10-16T07:31:44.931693Z",
          "shell.execute_reply": "2021-10-16T07:31:44.943390Z"
        },
        "trusted": true,
        "id": "nbS0uw8DSYBO"
      },
      "execution_count": null,
      "outputs": []
    },
    {
      "cell_type": "markdown",
      "source": [
        "We see that the model has an RMSE of 22.75 on the test data set. Now, we can use this model to predict values into the future.\n",
        "\n",
        "We'll be forecastig AQI values for 2021. However, 2020 yielded unexpected AQI values owing to the lockdown imposed due to COVID-19, as we saw earlier. So our prediction might have a wider margin of error to be considered."
      ],
      "metadata": {
        "id": "2I2J5pONSYBO"
      }
    },
    {
      "cell_type": "code",
      "source": [
        "fig, ax= plt.subplots(figsize=(10,6))\n",
        "\n",
        "forecasts = results.get_forecast(steps=36, dynamic=True)\n",
        "\n",
        "confidence_intervals=forecasts.conf_int()\n",
        "lower_limits = confidence_intervals.loc[:,'lower India_AQI']\n",
        "upper_limits = confidence_intervals.loc[:,'upper India_AQI']\n",
        "\n",
        "#plot the forecasted data\n",
        "forecasts.predicted_mean.plot(legend=True, ax=ax, label ='Predicted Values')\n",
        "\n",
        "#plot the confidence interval as the shaded area\n",
        "plt.fill_between(confidence_intervals.index, lower_limits, upper_limits, color='pink')\n",
        "\n",
        "#Plot India's AQI Data\n",
        "cities['India_AQI'].plot(legend=True, ax=ax)"
      ],
      "metadata": {
        "execution": {
          "iopub.status.busy": "2021-10-16T07:31:44.946700Z",
          "iopub.execute_input": "2021-10-16T07:31:44.947035Z",
          "iopub.status.idle": "2021-10-16T07:31:45.400421Z",
          "shell.execute_reply.started": "2021-10-16T07:31:44.947005Z",
          "shell.execute_reply": "2021-10-16T07:31:45.399309Z"
        },
        "trusted": true,
        "id": "9U-nHcDhSYBP"
      },
      "execution_count": null,
      "outputs": []
    }
  ]
}